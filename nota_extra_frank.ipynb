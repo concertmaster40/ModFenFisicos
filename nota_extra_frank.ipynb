{
  "nbformat": 4,
  "nbformat_minor": 0,
  "metadata": {
    "colab": {
      "provenance": [],
      "toc_visible": true,
      "authorship_tag": "ABX9TyNW+f8sjR2bwrYdqHc6AUFx",
      "include_colab_link": true
    },
    "kernelspec": {
      "name": "python3",
      "display_name": "Python 3"
    },
    "language_info": {
      "name": "python"
    }
  },
  "cells": [
    {
      "cell_type": "markdown",
      "metadata": {
        "id": "view-in-github",
        "colab_type": "text"
      },
      "source": [
        "<a href=\"https://colab.research.google.com/github/concertmaster40/mod_fen_fis/blob/main/nota_extra_frank.ipynb\" target=\"_parent\"><img src=\"https://colab.research.google.com/assets/colab-badge.svg\" alt=\"Open In Colab\"/></a>"
      ]
    },
    {
      "cell_type": "code",
      "execution_count": null,
      "metadata": {
        "colab": {
          "base_uri": "https://localhost:8080/",
          "height": 72
        },
        "id": "W7KC9fSHYWRw",
        "outputId": "c8e177ea-c571-4aa6-f8e6-dd6318cb7401"
      },
      "outputs": [
        {
          "output_type": "stream",
          "name": "stdout",
          "text": [
            "Insira o angulo em graus: 190\n",
            "Valor inválido!\n"
          ]
        },
        {
          "output_type": "display_data",
          "data": {
            "text/plain": [
              "<Figure size 640x480 with 0 Axes>"
            ]
          },
          "metadata": {}
        }
      ],
      "source": [
        "import math\n",
        "import numpy as np\n",
        "import matplotlib.pyplot as plt\n",
        "\n",
        "plt.close('all')\n",
        "plt.figure(figsize=(8, 6), dpi=80) #Definir tamanho da imagem\n",
        "\n",
        "#Variáveis Ângulo, sen, Cossen e tan\n",
        "angulo = int(input(\"Insira o angulo em graus: \"))\n",
        "\n",
        "if angulo > 180 or angulo < 0:\n",
        "  print(\"Valor inválido!\")\n",
        "  exit()\n",
        "else:\n",
        "  sen = math.sin(math.radians(angulo))\n",
        "  cos = math.cos(math.radians(angulo))\n",
        "  tan = math.tan(math.radians(angulo))\n",
        "\n",
        "  print(f\"Valores: Seno = {sen:.2f} / Cosseno = {cos:.2f} / Tangente = {tan:.2f}\")\n",
        "\n",
        "  #Plotar Círculo\n",
        "  angs = np.linspace(0 * np.pi, 2 * np.pi, 100 )\n",
        "  xs = np.cos(angs)\n",
        "  ys = np.sin(angs)\n",
        "  plt.plot(xs, ys, color = 'black')\n",
        "\n",
        "  #Plotar graus\n",
        "  grava_angs = np.linspace(0 * math.pi, math.radians(angulo), 20) # Faz uma lista com 20 posições\n",
        "  r = 1 #Raio do círculo\n",
        "  x_arco = np.cos(grava_angs) * r\n",
        "  y_arco = np.sin(grava_angs) * r\n",
        "  plt.plot(x_arco, y_arco, color = 'black', lw = 2) #Plotar linha\n",
        "  plt.gca().annotate(f\"{angulo}°\", xy=(-0.2, -0.1), xycoords='data', fontsize=10) #Desenha o grau\n",
        "\n",
        "  #Plotar Triângulo\n",
        "  plt.plot([0, cos], [0, sen], color='blue')\n",
        "  plt.plot([cos, cos], [0, sen], color='blue')\n",
        "  plt.plot([0, cos], [0, 0], color='blue')\n",
        "\n",
        "  #Escrever nas linhas\n",
        "  plt.plot([0, 1], [0, 0], color='red', linestyle='--')\n",
        "  plt.gca().annotate(f'cos={cos:.2f}', xy=(0.1, -0.2), xycoords='data', fontsize=9)\n",
        "\n",
        "  plt.plot([1, 1], [0, tan], color='red', linestyle='--')\n",
        "  plt.gca().annotate(f'tan={tan:.2f}', xy=(1.1, (tan/2)-0.2 ), xycoords='data', fontsize=9, rotation=-90)\n",
        "\n",
        "  plt.plot([0, 0], [0, sen], color='red', linestyle='--')\n",
        "  plt.gca().annotate(f'sen={sen:.2f}', xy=(-0.2, (sen/2)-0.2 ), xycoords='data', fontsize=9, rotation=90)\n",
        "\n",
        "  plt.plot([cos, 1], [sen, tan], color='red', linestyle='--')\n",
        "  plt.plot([0, cos], [sen, sen], color='red', linestyle='--')\n",
        "\n",
        "  #Desenhar Grade\n",
        "  plt.grid(axis='both',which='major',color=(0.8, 0.8, 0.8, 0.5), linestyle='-', linewidth=1)\n",
        "  plt.minorticks_on()\n",
        "  plt.grid(axis='both',which='minor',color=(0.8, 0.8, 0.8, 0.5), linestyle=':', linewidth=1)\n",
        "\n",
        "  #tamanho da visão do grafico\n",
        "  plt.xlim(-1.5, 1.5)\n",
        "  plt.ylim(-1.5, 1.5)\n",
        "  plt.gca().set_aspect('equal')\n",
        "  plt.show()"
      ]
    }
  ]
}